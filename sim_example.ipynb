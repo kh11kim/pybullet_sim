{
 "cells": [
  {
   "cell_type": "code",
   "execution_count": 1,
   "id": "5b3ebc3a-29e3-4c92-b348-5ac2bb0abd17",
   "metadata": {},
   "outputs": [
    {
     "name": "stderr",
     "output_type": "stream",
     "text": [
      "pybullet build time: Oct 11 2021 20:59:39\n"
     ]
    }
   ],
   "source": [
    "import pybullet as p\n",
    "import time\n",
    "from pybullet_sim_panda.bullet_robot import *\n",
    "import numpy as np"
   ]
  },
  {
   "cell_type": "code",
   "execution_count": 2,
   "id": "4c783fa7",
   "metadata": {},
   "outputs": [],
   "source": [
    "uid = p.connect(p.GUI)\n",
    "p.setAdditionalSearchPath(pybullet_data.getDataPath()) # for loading plane\n",
    "\n",
    "# Simulation configuration\n",
    "rate = 240.\n",
    "p.setTimeStep(1/rate)\n",
    "p.resetSimulation() #init\n",
    "p.setGravity(0, 0, -9.8) #set gravity\n",
    "\n",
    "# Load\n",
    "plane_id = p.loadURDF(\"plane.urdf\") # load plane\n",
    "panda = PandaBullet(p) # load robot"
   ]
  },
  {
   "cell_type": "markdown",
   "id": "902cef81",
   "metadata": {},
   "source": [
    "### Real-time Simulation"
   ]
  },
  {
   "cell_type": "code",
   "execution_count": 3,
   "id": "912fce13",
   "metadata": {},
   "outputs": [],
   "source": [
    "p.setRealTimeSimulation(True)"
   ]
  },
  {
   "cell_type": "code",
   "execution_count": 4,
   "id": "1c047a34",
   "metadata": {},
   "outputs": [],
   "source": [
    "panda.control_joint_positions([0,0,0,-1,2,1,2])"
   ]
  },
  {
   "cell_type": "code",
   "execution_count": 8,
   "id": "6c8503a5-29e6-45b6-aff2-604164f60d9a",
   "metadata": {},
   "outputs": [],
   "source": [
    "states = panda.get_all_states()\n",
    "pos = states[\"position\"]\n",
    "vel = states[\"velocity\"]\n",
    "acc = np.zeros(len(states[\"velocity\"])).tolist()"
   ]
  },
  {
   "cell_type": "code",
   "execution_count": null,
   "id": "ab3c5d35",
   "metadata": {},
   "outputs": [],
   "source": [
    "panda.control_joint_positions([0,0,0,0,0,1,-2])"
   ]
  },
  {
   "cell_type": "code",
   "execution_count": 17,
   "id": "ba26a88f-62e7-4e79-b7f2-145e8ad67e7f",
   "metadata": {},
   "outputs": [],
   "source": [
    "coriolis_gravity_force = p.calculateInverseDynamics(panda.robot, pos, vel, acc)\n",
    "coriolis_gravity_force = [coriolis_gravity[i]for i in panda._arm_joints]"
   ]
  },
  {
   "cell_type": "code",
   "execution_count": 18,
   "id": "b3b93caa-29e3-4df1-9702-6dd470df092a",
   "metadata": {},
   "outputs": [],
   "source": [
    "jacobian = panda.get_body_jacobian()"
   ]
  },
  {
   "cell_type": "code",
   "execution_count": 31,
   "id": "b353b0c7-0ee9-4d87-9035-2d5414a8ffcb",
   "metadata": {},
   "outputs": [],
   "source": [
    "clear(p)"
   ]
  },
  {
   "cell_type": "code",
   "execution_count": 22,
   "id": "327be12c-6aee-4be7-84f2-79b7b474d4a9",
   "metadata": {},
   "outputs": [
    {
     "data": {
      "text/plain": [
       "[0, 1, 2]"
      ]
     },
     "execution_count": 22,
     "metadata": {},
     "output_type": "execute_result"
    }
   ],
   "source": [
    "view_pose(p, panda.get_ee_pose())"
   ]
  },
  {
   "cell_type": "code",
   "execution_count": 39,
   "id": "7e00cafa-20d7-473b-a6cd-aa3e27364175",
   "metadata": {},
   "outputs": [],
   "source": [
    "ee_target_pose = np.eye(4)\n",
    "ee_target_pose[:3,-1] = np.array([0.1, 0.1, 0.0])\n",
    "ee_target_pose = panda.get_ee_pose() @ ee_target_pose\n",
    "ee_curr_pose = panda.get_ee_pose()"
   ]
  },
  {
   "cell_type": "code",
   "execution_count": 40,
   "id": "5ac7681c-4002-4517-bec9-1e5645119579",
   "metadata": {},
   "outputs": [
    {
     "data": {
      "text/plain": [
       "array([[ 0.66501558, -0.37887113, -0.64359222,  0.30498169],\n",
       "       [ 0.5611406 , -0.31518432,  0.76536271,  0.22993406],\n",
       "       [-0.49282401, -0.87012385,  0.00299749,  0.79677699],\n",
       "       [ 0.        ,  0.        ,  0.        ,  1.        ]])"
      ]
     },
     "execution_count": 40,
     "metadata": {},
     "output_type": "execute_result"
    }
   ],
   "source": [
    "ee_target_pose"
   ]
  },
  {
   "cell_type": "code",
   "execution_count": 41,
   "id": "38eee4d5-d62f-4503-bae6-ade60727c400",
   "metadata": {},
   "outputs": [
    {
     "data": {
      "text/plain": [
       "array([[ 0.66501558, -0.37887113, -0.64359222,  0.27636724],\n",
       "       [ 0.5611406 , -0.31518432,  0.76536271,  0.20533844],\n",
       "       [-0.49282401, -0.87012385,  0.00299749,  0.93307178],\n",
       "       [ 0.        ,  0.        ,  0.        ,  1.        ]])"
      ]
     },
     "execution_count": 41,
     "metadata": {},
     "output_type": "execute_result"
    }
   ],
   "source": [
    "ee_curr_pose"
   ]
  },
  {
   "cell_type": "code",
   "execution_count": 44,
   "id": "de9eaae1-6a4f-46b4-aa66-9f3c0ce7c4ac",
   "metadata": {},
   "outputs": [],
   "source": [
    "trans_err = ee_target_pose[:3,-1] - ee_curr_pose[:3,-1]"
   ]
  },
  {
   "cell_type": "code",
   "execution_count": null,
   "id": "d2245811-c1ab-4af2-b6c4-1ccb03dd7d0d",
   "metadata": {},
   "outputs": [],
   "source": [
    "rot_err = ee_target_pose.T @ ee_curr_pose"
   ]
  },
  {
   "cell_type": "code",
   "execution_count": 4,
   "id": "835a2708-0741-4556-931e-556e6e409bb8",
   "metadata": {},
   "outputs": [],
   "source": [
    "class Base():\n",
    "    @staticmethod\n",
    "    def a():\n",
    "        return 3\n",
    "class Foo(Base):\n",
    "    def __init__(self):\n",
    "        pass\n",
    "    \n",
    "    def b(self):\n",
    "        return self.a()"
   ]
  },
  {
   "cell_type": "code",
   "execution_count": 5,
   "id": "828094e1-7b9f-4533-ba47-67daa9161f2e",
   "metadata": {},
   "outputs": [],
   "source": [
    "a = Foo()"
   ]
  },
  {
   "cell_type": "code",
   "execution_count": 8,
   "id": "844f8d90-c244-4a5d-a02d-dc04153c2b1a",
   "metadata": {},
   "outputs": [],
   "source": [
    "import  numpy as np"
   ]
  },
  {
   "cell_type": "code",
   "execution_count": 14,
   "id": "6ce6ee8b-4e5c-4afc-bafb-c3d59f9ac37d",
   "metadata": {},
   "outputs": [
    {
     "data": {
      "text/plain": [
       "array([1., 0., 0.])"
      ]
     },
     "execution_count": 14,
     "metadata": {},
     "output_type": "execute_result"
    }
   ],
   "source": [
    "np.eye(3) @ np.array([1,0,0])"
   ]
  },
  {
   "cell_type": "code",
   "execution_count": 11,
   "id": "35573c78-a7c4-45f4-bde9-8bdcbbc71f4a",
   "metadata": {},
   "outputs": [
    {
     "data": {
      "text/plain": [
       "4"
      ]
     },
     "execution_count": 11,
     "metadata": {},
     "output_type": "execute_result"
    }
   ],
   "source": [
    "len()"
   ]
  },
  {
   "cell_type": "code",
   "execution_count": null,
   "id": "1b60bac4-de70-48c3-a627-8b46d666791b",
   "metadata": {},
   "outputs": [],
   "source": [
    "ee_target_pose"
   ]
  },
  {
   "cell_type": "code",
   "execution_count": 34,
   "id": "0241fc28-53a0-45cb-8304-76707b71795c",
   "metadata": {},
   "outputs": [],
   "source": [
    "R = panda.get_ee_pose()[:3,:3]"
   ]
  },
  {
   "cell_type": "code",
   "execution_count": 30,
   "id": "e43c4612-1c83-48fb-80fe-2b37f7878382",
   "metadata": {},
   "outputs": [
    {
     "data": {
      "text/plain": [
       "[6, 7, 8]"
      ]
     },
     "execution_count": 30,
     "metadata": {},
     "output_type": "execute_result"
    }
   ],
   "source": [
    "view_pose(p, ee_target_pose)"
   ]
  },
  {
   "cell_type": "markdown",
   "id": "53e61415",
   "metadata": {},
   "source": [
    "### Simulation in while loop (Torque/Position control)"
   ]
  },
  {
   "cell_type": "code",
   "execution_count": null,
   "id": "a6dee872-03e2-48b2-b1fa-fa423d612f0e",
   "metadata": {},
   "outputs": [],
   "source": [
    "while(1):\n",
    "    panda.set_control_mode(mode_str=\"position\")\n",
    "    panda.control_joint_positions([0,0,0,0,0,1,1])\n",
    "    #panda.set_control_mode(mode_str=\"torque\")\n",
    "    #panda.control_joint_torques([0,0,0,0,0,1,100])\n",
    "    \n",
    "    p.stepSimulation()\n",
    "    time.sleep(1/rate)"
   ]
  }
 ],
 "metadata": {
  "kernelspec": {
   "display_name": "Python 3 (ipykernel)",
   "language": "python",
   "name": "python3"
  },
  "language_info": {
   "codemirror_mode": {
    "name": "ipython",
    "version": 3
   },
   "file_extension": ".py",
   "mimetype": "text/x-python",
   "name": "python",
   "nbconvert_exporter": "python",
   "pygments_lexer": "ipython3",
   "version": "3.8.10"
  }
 },
 "nbformat": 4,
 "nbformat_minor": 5
}
