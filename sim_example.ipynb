{
 "cells": [
  {
   "cell_type": "code",
   "execution_count": null,
   "id": "5b3ebc3a-29e3-4c92-b348-5ac2bb0abd17",
   "metadata": {},
   "outputs": [],
   "source": [
    "import pybullet as p\n",
    "import time\n",
    "from bullet_robot import *\n",
    "import numpy as np"
   ]
  },
  {
   "cell_type": "code",
   "execution_count": null,
   "id": "4c783fa7",
   "metadata": {},
   "outputs": [],
   "source": [
    "uid = p.connect(p.GUI)\n",
    "p.setAdditionalSearchPath(pybullet_data.getDataPath()) # for loading plane\n",
    "\n",
    "# Simulation configuration\n",
    "rate = 240.\n",
    "p.setTimeStep(1/rate)\n",
    "p.resetSimulation() #init\n",
    "p.setGravity(0, 0, -9.8) #set gravity\n",
    "\n",
    "# Load\n",
    "plane_id = p.loadURDF(\"plane.urdf\") # load plane\n",
    "panda = PandaBullet(p) # load robot"
   ]
  },
  {
   "cell_type": "markdown",
   "id": "902cef81",
   "metadata": {},
   "source": [
    "### Real-time Simulation"
   ]
  },
  {
   "cell_type": "code",
   "execution_count": null,
   "id": "912fce13",
   "metadata": {},
   "outputs": [],
   "source": [
    "p.setRealTimeSimulation(True)"
   ]
  },
  {
   "cell_type": "code",
   "execution_count": null,
   "id": "1c047a34",
   "metadata": {},
   "outputs": [],
   "source": [
    "panda.control_joint_positions([0,0,0,0,0,1,2])"
   ]
  },
  {
   "cell_type": "code",
   "execution_count": null,
   "id": "ab3c5d35",
   "metadata": {},
   "outputs": [],
   "source": [
    "panda.control_joint_positions([0,0,0,0,0,1,-2])"
   ]
  },
  {
   "cell_type": "markdown",
   "id": "53e61415",
   "metadata": {},
   "source": [
    "### Simulation in while loop (Torque/Position control)"
   ]
  },
  {
   "cell_type": "code",
   "execution_count": null,
   "id": "a6dee872-03e2-48b2-b1fa-fa423d612f0e",
   "metadata": {},
   "outputs": [],
   "source": [
    "while(1):\n",
    "    panda.set_control_mode(mode_str=\"position\")\n",
    "    panda.control_joint_positions([0,0,0,0,0,1,1])\n",
    "    #panda.set_control_mode(mode_str=\"torque\")\n",
    "    #panda.control_joint_torques([0,0,0,0,0,1,100])\n",
    "    \n",
    "    p.stepSimulation()\n",
    "    time.sleep(1/rate)"
   ]
  }
 ],
 "metadata": {
  "kernelspec": {
   "display_name": "Python 3 (ipykernel)",
   "language": "python",
   "name": "python3"
  },
  "language_info": {
   "codemirror_mode": {
    "name": "ipython",
    "version": 3
   },
   "file_extension": ".py",
   "mimetype": "text/x-python",
   "name": "python",
   "nbconvert_exporter": "python",
   "pygments_lexer": "ipython3",
   "version": "3.8.10"
  }
 },
 "nbformat": 4,
 "nbformat_minor": 5
}
