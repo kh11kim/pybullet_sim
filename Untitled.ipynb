{
 "cells": [
  {
   "cell_type": "code",
   "execution_count": 1,
   "id": "5b3ebc3a-29e3-4c92-b348-5ac2bb0abd17",
   "metadata": {},
   "outputs": [
    {
     "name": "stderr",
     "output_type": "stream",
     "text": [
      "pybullet build time: Oct 11 2021 20:59:39\n"
     ]
    },
    {
     "name": "stdout",
     "output_type": "stream",
     "text": [
      "startThreads creating 1 threads.\n",
      "starting thread 0\n",
      "started thread 0 \n",
      "argc=2\n",
      "argv[0] = --unused\n",
      "argv[1] = --start_demo_name=Physics Server\n",
      "ExampleBrowserThreadFunc started\n",
      "X11 functions dynamically loaded using dlopen/dlsym OK!\n",
      "X11 functions dynamically loaded using dlopen/dlsym OK!\n",
      "Creating context\n",
      "Created GL 3.3 context\n",
      "Direct GLX rendering context obtained\n",
      "Making context current\n",
      "GL_VENDOR=NVIDIA Corporation\n",
      "GL_RENDERER=NVIDIA GeForce GTX 1660 SUPER/PCIe/SSE2\n",
      "GL_VERSION=3.3.0 NVIDIA 470.86\n",
      "GL_SHADING_LANGUAGE_VERSION=3.30 NVIDIA via Cg compiler\n",
      "pthread_getconcurrency()=0\n",
      "Version = 3.3.0 NVIDIA 470.86\n",
      "Vendor = NVIDIA Corporation\n",
      "Renderer = NVIDIA GeForce GTX 1660 SUPER/PCIe/SSE2\n",
      "b3Printf: Selected demo: Physics Server\n",
      "startThreads creating 1 threads.\n",
      "starting thread 0\n",
      "started thread 0 \n",
      "MotionThreadFunc thread started\n",
      "ven = NVIDIA Corporation\n",
      "ven = NVIDIA Corporation\n"
     ]
    }
   ],
   "source": [
    "import pybullet as p\n",
    "import time\n",
    "import pybullet_data\n",
    "import numpy as np\n",
    "\n",
    "uid = p.connect(p.GUI)\n",
    "p.setAdditionalSearchPath(pybullet_data.getDataPath()) # for loading plane|"
   ]
  },
  {
   "cell_type": "code",
   "execution_count": 6,
   "id": "a6dee872-03e2-48b2-b1fa-fa423d612f0e",
   "metadata": {},
   "outputs": [],
   "source": [
    "p.resetSimulation()\n",
    "p.setGravity(0, 0, -9.8)\n",
    "\n",
    "# load plane\n",
    "plane_id = p.loadURDF(\"plane.urdf\")\n",
    "# load robot\n",
    "robot_id = p.loadURDF(\"/urdf/panda_arm.urdf\", useFixedBase=True)\n",
    "p.resetBasePositionAndOrientation(robot_id, [0, 0, 0.05], [0, 0, 0, 1])\n",
    "\n",
    "# load object\n",
    "start_position = [0.5,0,0.1]\n",
    "start_orientation = p.getQuaternionFromEuler([0,0,0])\n",
    "obj_id = p.loadURDF(\"/home/kh11kim/ws/articulated_sim/urdf/3R.urdf\",\n",
    "                      start_position, start_orientation)"
   ]
  },
  {
   "cell_type": "code",
   "execution_count": 7,
   "id": "b21a30d4-8481-4854-8b0f-20197bc54c1e",
   "metadata": {},
   "outputs": [],
   "source": [
    "p.setRealTimeSimulation(1)\n",
    "p.setTimeStep(0.01)"
   ]
  },
  {
   "cell_type": "code",
   "execution_count": 8,
   "id": "c85c7903-cbe8-4098-8801-c43ac65d4d31",
   "metadata": {},
   "outputs": [],
   "source": [
    "p.resetJointState(robot_id, 0,0)"
   ]
  },
  {
   "cell_type": "code",
   "execution_count": 13,
   "id": "7df0781b-0982-4e12-81f2-aaad5af45d50",
   "metadata": {},
   "outputs": [],
   "source": [
    "n = p.getNumJoints(robot_id)\n",
    "max_force = 100\n",
    "p.setJointMotorControlArray(robot_id, range(n), \n",
    "                            p.POSITION_CONTROL, \n",
    "                        targetPositions=[0]*n, forces=[max_force]*n)"
   ]
  },
  {
   "cell_type": "code",
   "execution_count": 18,
   "id": "784cbd12-137f-4053-8d85-c04e8cd61662",
   "metadata": {},
   "outputs": [
    {
     "data": {
      "text/plain": [
       "((0.6505700297103643, -0.0001892610574541556, 0.009989419524459055),\n",
       " (-4.8576842303221715e-05,\n",
       "  -5.9209833184437694e-06,\n",
       "  0.14857000744264198,\n",
       "  0.9889018912378142),\n",
       " (0.05, 0.0, 0.0),\n",
       " (0.0, 0.0, 0.0, 1.0),\n",
       " (0.602777361869812, -0.0148813771083951, 0.009989555925130844),\n",
       " (-4.857684325543232e-05,\n",
       "  -5.920982857787749e-06,\n",
       "  0.1485700011253357,\n",
       "  0.9889019131660461))"
      ]
     },
     "execution_count": 18,
     "metadata": {},
     "output_type": "execute_result"
    }
   ],
   "source": [
    "p.getLinkState(obj_id,0)"
   ]
  }
 ],
 "metadata": {
  "kernelspec": {
   "display_name": "Python 3 (ipykernel)",
   "language": "python",
   "name": "python3"
  },
  "language_info": {
   "codemirror_mode": {
    "name": "ipython",
    "version": 3
   },
   "file_extension": ".py",
   "mimetype": "text/x-python",
   "name": "python",
   "nbconvert_exporter": "python",
   "pygments_lexer": "ipython3",
   "version": "3.8.10"
  }
 },
 "nbformat": 4,
 "nbformat_minor": 5
}
